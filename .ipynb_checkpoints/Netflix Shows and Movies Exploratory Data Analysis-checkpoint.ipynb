{
 "cells": [
  {
   "cell_type": "code",
   "execution_count": 1,
   "metadata": {},
   "outputs": [],
   "source": [
    "%matplotlib inline\n",
    "\n",
    "import numpy as np\n",
    "import pandas as pd\n",
    "import seaborn as sns\n",
    "import matplotlib.pyplot as plt"
   ]
  },
  {
   "cell_type": "code",
   "execution_count": 2,
   "metadata": {},
   "outputs": [
    {
     "data": {
      "text/html": [
       "<div>\n",
       "<style scoped>\n",
       "    .dataframe tbody tr th:only-of-type {\n",
       "        vertical-align: middle;\n",
       "    }\n",
       "\n",
       "    .dataframe tbody tr th {\n",
       "        vertical-align: top;\n",
       "    }\n",
       "\n",
       "    .dataframe thead th {\n",
       "        text-align: right;\n",
       "    }\n",
       "</style>\n",
       "<table border=\"1\" class=\"dataframe\">\n",
       "  <thead>\n",
       "    <tr style=\"text-align: right;\">\n",
       "      <th></th>\n",
       "      <th>show_id</th>\n",
       "      <th>type</th>\n",
       "      <th>title</th>\n",
       "      <th>director</th>\n",
       "      <th>cast</th>\n",
       "      <th>country</th>\n",
       "      <th>date_added</th>\n",
       "      <th>release_year</th>\n",
       "      <th>rating</th>\n",
       "      <th>duration</th>\n",
       "      <th>listed_in</th>\n",
       "      <th>description</th>\n",
       "    </tr>\n",
       "  </thead>\n",
       "  <tbody>\n",
       "    <tr>\n",
       "      <th>0</th>\n",
       "      <td>81145628</td>\n",
       "      <td>Movie</td>\n",
       "      <td>Norm of the North: King Sized Adventure</td>\n",
       "      <td>Richard Finn, Tim Maltby</td>\n",
       "      <td>Alan Marriott, Andrew Toth, Brian Dobson, Cole...</td>\n",
       "      <td>United States, India, South Korea, China</td>\n",
       "      <td>September 9, 2019</td>\n",
       "      <td>2019</td>\n",
       "      <td>TV-PG</td>\n",
       "      <td>90 min</td>\n",
       "      <td>Children &amp; Family Movies, Comedies</td>\n",
       "      <td>Before planning an awesome wedding for his gra...</td>\n",
       "    </tr>\n",
       "    <tr>\n",
       "      <th>1</th>\n",
       "      <td>80117401</td>\n",
       "      <td>Movie</td>\n",
       "      <td>Jandino: Whatever it Takes</td>\n",
       "      <td>NaN</td>\n",
       "      <td>Jandino Asporaat</td>\n",
       "      <td>United Kingdom</td>\n",
       "      <td>September 9, 2016</td>\n",
       "      <td>2016</td>\n",
       "      <td>TV-MA</td>\n",
       "      <td>94 min</td>\n",
       "      <td>Stand-Up Comedy</td>\n",
       "      <td>Jandino Asporaat riffs on the challenges of ra...</td>\n",
       "    </tr>\n",
       "    <tr>\n",
       "      <th>2</th>\n",
       "      <td>70234439</td>\n",
       "      <td>TV Show</td>\n",
       "      <td>Transformers Prime</td>\n",
       "      <td>NaN</td>\n",
       "      <td>Peter Cullen, Sumalee Montano, Frank Welker, J...</td>\n",
       "      <td>United States</td>\n",
       "      <td>September 8, 2018</td>\n",
       "      <td>2013</td>\n",
       "      <td>TV-Y7-FV</td>\n",
       "      <td>1 Season</td>\n",
       "      <td>Kids' TV</td>\n",
       "      <td>With the help of three human allies, the Autob...</td>\n",
       "    </tr>\n",
       "    <tr>\n",
       "      <th>3</th>\n",
       "      <td>80058654</td>\n",
       "      <td>TV Show</td>\n",
       "      <td>Transformers: Robots in Disguise</td>\n",
       "      <td>NaN</td>\n",
       "      <td>Will Friedle, Darren Criss, Constance Zimmer, ...</td>\n",
       "      <td>United States</td>\n",
       "      <td>September 8, 2018</td>\n",
       "      <td>2016</td>\n",
       "      <td>TV-Y7</td>\n",
       "      <td>1 Season</td>\n",
       "      <td>Kids' TV</td>\n",
       "      <td>When a prison ship crash unleashes hundreds of...</td>\n",
       "    </tr>\n",
       "    <tr>\n",
       "      <th>4</th>\n",
       "      <td>80125979</td>\n",
       "      <td>Movie</td>\n",
       "      <td>#realityhigh</td>\n",
       "      <td>Fernando Lebrija</td>\n",
       "      <td>Nesta Cooper, Kate Walsh, John Michael Higgins...</td>\n",
       "      <td>United States</td>\n",
       "      <td>September 8, 2017</td>\n",
       "      <td>2017</td>\n",
       "      <td>TV-14</td>\n",
       "      <td>99 min</td>\n",
       "      <td>Comedies</td>\n",
       "      <td>When nerdy high schooler Dani finally attracts...</td>\n",
       "    </tr>\n",
       "  </tbody>\n",
       "</table>\n",
       "</div>"
      ],
      "text/plain": [
       "    show_id     type                                    title  \\\n",
       "0  81145628    Movie  Norm of the North: King Sized Adventure   \n",
       "1  80117401    Movie               Jandino: Whatever it Takes   \n",
       "2  70234439  TV Show                       Transformers Prime   \n",
       "3  80058654  TV Show         Transformers: Robots in Disguise   \n",
       "4  80125979    Movie                             #realityhigh   \n",
       "\n",
       "                   director  \\\n",
       "0  Richard Finn, Tim Maltby   \n",
       "1                       NaN   \n",
       "2                       NaN   \n",
       "3                       NaN   \n",
       "4          Fernando Lebrija   \n",
       "\n",
       "                                                cast  \\\n",
       "0  Alan Marriott, Andrew Toth, Brian Dobson, Cole...   \n",
       "1                                   Jandino Asporaat   \n",
       "2  Peter Cullen, Sumalee Montano, Frank Welker, J...   \n",
       "3  Will Friedle, Darren Criss, Constance Zimmer, ...   \n",
       "4  Nesta Cooper, Kate Walsh, John Michael Higgins...   \n",
       "\n",
       "                                    country         date_added  release_year  \\\n",
       "0  United States, India, South Korea, China  September 9, 2019          2019   \n",
       "1                            United Kingdom  September 9, 2016          2016   \n",
       "2                             United States  September 8, 2018          2013   \n",
       "3                             United States  September 8, 2018          2016   \n",
       "4                             United States  September 8, 2017          2017   \n",
       "\n",
       "     rating  duration                           listed_in  \\\n",
       "0     TV-PG    90 min  Children & Family Movies, Comedies   \n",
       "1     TV-MA    94 min                     Stand-Up Comedy   \n",
       "2  TV-Y7-FV  1 Season                            Kids' TV   \n",
       "3     TV-Y7  1 Season                            Kids' TV   \n",
       "4     TV-14    99 min                            Comedies   \n",
       "\n",
       "                                         description  \n",
       "0  Before planning an awesome wedding for his gra...  \n",
       "1  Jandino Asporaat riffs on the challenges of ra...  \n",
       "2  With the help of three human allies, the Autob...  \n",
       "3  When a prison ship crash unleashes hundreds of...  \n",
       "4  When nerdy high schooler Dani finally attracts...  "
      ]
     },
     "execution_count": 2,
     "metadata": {},
     "output_type": "execute_result"
    }
   ],
   "source": [
    "data = pd.read_csv('netflix-shows/netflix_titles.csv')\n",
    "data.head()"
   ]
  },
  {
   "cell_type": "code",
   "execution_count": 3,
   "metadata": {},
   "outputs": [
    {
     "name": "stdout",
     "output_type": "stream",
     "text": [
      "Columns  :  12\n",
      "\n",
      "Features : \n",
      " ['show_id', 'type', 'title', 'director', 'cast', 'country', 'date_added', 'release_year', 'rating', 'duration', 'listed_in', 'description']\n",
      "\n",
      "Missing values :   show_id            0\n",
      "type               0\n",
      "title              0\n",
      "director        1969\n",
      "cast             570\n",
      "country          476\n",
      "date_added        11\n",
      "release_year       0\n",
      "rating            10\n",
      "duration           0\n",
      "listed_in          0\n",
      "description        0\n",
      "dtype: int64\n",
      "\n",
      "Unique values :  \n",
      " show_id         6234\n",
      "type               2\n",
      "title           6172\n",
      "director        3301\n",
      "cast            5469\n",
      "country          554\n",
      "date_added      1524\n",
      "release_year      72\n",
      "rating            14\n",
      "duration         201\n",
      "listed_in        461\n",
      "description     6226\n",
      "dtype: int64\n",
      "\n",
      "Info : \n",
      "\n",
      "<class 'pandas.core.frame.DataFrame'>\n",
      "RangeIndex: 6234 entries, 0 to 6233\n",
      "Data columns (total 12 columns):\n",
      "show_id         6234 non-null int64\n",
      "type            6234 non-null object\n",
      "title           6234 non-null object\n",
      "director        4265 non-null object\n",
      "cast            5664 non-null object\n",
      "country         5758 non-null object\n",
      "date_added      6223 non-null object\n",
      "release_year    6234 non-null int64\n",
      "rating          6224 non-null object\n",
      "duration        6234 non-null object\n",
      "listed_in       6234 non-null object\n",
      "description     6234 non-null object\n",
      "dtypes: int64(2), object(10)\n",
      "memory usage: 584.6+ KB\n",
      "None\n"
     ]
    }
   ],
   "source": [
    "print(\"Columns  : \" , data.shape[1])\n",
    "print(\"\\nFeatures : \\n\" , data.columns.tolist())\n",
    "print(\"\\nMissing values :  \", data.isnull().sum())\n",
    "print(\"\\nUnique values :  \\n\", data.nunique())\n",
    "print(\"\\nInfo : \\n\") \n",
    "print(data.info())"
   ]
  },
  {
   "cell_type": "code",
   "execution_count": 4,
   "metadata": {},
   "outputs": [
    {
     "data": {
      "text/html": [
       "<div>\n",
       "<style scoped>\n",
       "    .dataframe tbody tr th:only-of-type {\n",
       "        vertical-align: middle;\n",
       "    }\n",
       "\n",
       "    .dataframe tbody tr th {\n",
       "        vertical-align: top;\n",
       "    }\n",
       "\n",
       "    .dataframe thead th {\n",
       "        text-align: right;\n",
       "    }\n",
       "</style>\n",
       "<table border=\"1\" class=\"dataframe\">\n",
       "  <thead>\n",
       "    <tr style=\"text-align: right;\">\n",
       "      <th></th>\n",
       "      <th>show_id</th>\n",
       "      <th>release_year</th>\n",
       "    </tr>\n",
       "  </thead>\n",
       "  <tbody>\n",
       "    <tr>\n",
       "      <th>count</th>\n",
       "      <td>6.234000e+03</td>\n",
       "      <td>6234.00000</td>\n",
       "    </tr>\n",
       "    <tr>\n",
       "      <th>mean</th>\n",
       "      <td>7.670368e+07</td>\n",
       "      <td>2013.35932</td>\n",
       "    </tr>\n",
       "    <tr>\n",
       "      <th>std</th>\n",
       "      <td>1.094296e+07</td>\n",
       "      <td>8.81162</td>\n",
       "    </tr>\n",
       "    <tr>\n",
       "      <th>min</th>\n",
       "      <td>2.477470e+05</td>\n",
       "      <td>1925.00000</td>\n",
       "    </tr>\n",
       "    <tr>\n",
       "      <th>25%</th>\n",
       "      <td>8.003580e+07</td>\n",
       "      <td>2013.00000</td>\n",
       "    </tr>\n",
       "    <tr>\n",
       "      <th>50%</th>\n",
       "      <td>8.016337e+07</td>\n",
       "      <td>2016.00000</td>\n",
       "    </tr>\n",
       "    <tr>\n",
       "      <th>75%</th>\n",
       "      <td>8.024489e+07</td>\n",
       "      <td>2018.00000</td>\n",
       "    </tr>\n",
       "    <tr>\n",
       "      <th>max</th>\n",
       "      <td>8.123573e+07</td>\n",
       "      <td>2020.00000</td>\n",
       "    </tr>\n",
       "  </tbody>\n",
       "</table>\n",
       "</div>"
      ],
      "text/plain": [
       "            show_id  release_year\n",
       "count  6.234000e+03    6234.00000\n",
       "mean   7.670368e+07    2013.35932\n",
       "std    1.094296e+07       8.81162\n",
       "min    2.477470e+05    1925.00000\n",
       "25%    8.003580e+07    2013.00000\n",
       "50%    8.016337e+07    2016.00000\n",
       "75%    8.024489e+07    2018.00000\n",
       "max    8.123573e+07    2020.00000"
      ]
     },
     "execution_count": 4,
     "metadata": {},
     "output_type": "execute_result"
    }
   ],
   "source": [
    "data.describe()"
   ]
  },
  {
   "cell_type": "code",
   "execution_count": 5,
   "metadata": {},
   "outputs": [
    {
     "data": {
      "image/png": "[encoded data removed]",
      "text/plain": [
       "<Figure size 432x288 with 1 Axes>"
      ]
     },
     "metadata": {},
     "output_type": "display_data"
    }
   ],
   "source": [
    "ax = sns.heatmap(data.isnull(), yticklabels=False, cmap = 'viridis', cbar = False)"
   ]
  },
  {
   "cell_type": "code",
   "execution_count": 6,
   "metadata": {},
   "outputs": [
    {
     "data": {
      "image/png": "[encoded data removed]",
      "text/plain": [
       "<Figure size 432x288 with 1 Axes>"
      ]
     },
     "metadata": {},
     "output_type": "display_data"
    }
   ],
   "source": [
    "group_type = data['type'].value_counts()\n",
    "plt.pie(group_type, explode = [0.1, 0], autopct='%1.1f%%')\n",
    "plt.axis('equal')\n",
    "plt.title(\"Content Type\")\n",
    "plt.legend(group_type.index)\n",
    "plt.show()"
   ]
  },
  {
   "cell_type": "code",
   "execution_count": 7,
   "metadata": {},
   "outputs": [
    {
     "data": {
      "image/png": "[encoded data removed]",
      "text/plain": [
       "<Figure size 432x288 with 1 Axes>"
      ]
     },
     "metadata": {},
     "output_type": "display_data"
    }
   ],
   "source": [
    "Movies = data[data['type'] == 'Movie']\n",
    "TvShows = data[data['type'] == 'TV Show']\n",
    "\n",
    "movie_counts = Movies['release_year'].value_counts().reset_index()\n",
    "movie_counts = movie_counts.rename(columns = {'index':'release_year', 'release_year':'count'})\n",
    "movie_counts = movie_counts.sort_values('release_year')\n",
    "plt.plot(movie_counts['release_year'], movie_counts['count'])\n",
    "\n",
    "tvshows_counts = TvShows['release_year'].value_counts().reset_index()\n",
    "tvshows_counts = tvshows_counts.rename(columns = {'index':'release_year', 'release_year':'count'})\n",
    "tvshows_counts = tvshows_counts.sort_values('release_year')\n",
    "plt.plot(tvshows_counts['release_year'], tvshows_counts['count'])\n",
    "\n",
    "plt.title('Content added over years')\n",
    "plt.legend(['Movies', 'TV Shows', 'Total'])\n",
    "plt.show()"
   ]
  },
  {
   "cell_type": "code",
   "execution_count": 8,
   "metadata": {},
   "outputs": [
    {
     "data": {
      "image/png": "[encoded data removed]",
      "text/plain": [
       "<Figure size 1080x360 with 1 Axes>"
      ]
     },
     "metadata": {},
     "output_type": "display_data"
    }
   ],
   "source": [
    "countries = data['country'].value_counts().reset_index()\n",
    "countries = countries.rename(columns = {'index':'country', 'country':'count'})\n",
    "country_count = {}\n",
    "for i in countries.country:\n",
    "    country_list = i.split(',')\n",
    "    for j in country_list:\n",
    "        if j == '':\n",
    "            continue\n",
    "        j = j.strip()\n",
    "        if j not in country_count:\n",
    "            country_count[j] = 1\n",
    "        else:\n",
    "            country_count[j] = country_count[j] + 1\n",
    "\n",
    "countries_count = pd.DataFrame(country_count.items(), columns = ['country', 'count']).sort_values('count', ascending = False)\n",
    "countries_list = countries_count[:10]\n",
    "plt.bar(countries_list['country'], countries_list['count'], color='darkmagenta')\n",
    "plt.title('Contries with most content')\n",
    "plt.gcf().set_size_inches(15, 5, forward=True)\n",
    "plt.show()"
   ]
  },
  {
   "cell_type": "code",
   "execution_count": 50,
   "metadata": {
    "scrolled": false
   },
   "outputs": [
    {
     "data": {
      "image/png": "[encoded data removed]",
      "text/plain": [
       "<Figure size 864x288 with 1 Axes>"
      ]
     },
     "metadata": {},
     "output_type": "display_data"
    }
   ],
   "source": [
    "content_added = {}\n",
    "for i in months.date_added:\n",
    "    lis = i.split()\n",
    "    month = lis[0]\n",
    "    if month not in content_added:\n",
    "        content_added[month] = 1\n",
    "    else:\n",
    "        content_added[month] += 1\n",
    "content_added = pd.DataFrame(content_added.items(), columns=['month', 'count'])\n",
    "content_added['month'] = content_added['month'].replace({'January':1, 'February':2, 'March':3, 'April':4, 'May':5, 'June':6, 'July':7,\n",
    "                                                'August':8, 'September':9, 'October':10, 'November':11, 'December':12})\n",
    "content_added = content_added.sort_values('month')\n",
    "plt.bar(content_added['month'].to_list(), content_added['count'].to_list())\n",
    "plt.title('Content added over months')\n",
    "plt.gcf().set_size_inches(12, 4, forward=True)\n",
    "plt.show()"
   ]
  },
  {
   "cell_type": "code",
   "execution_count": 10,
   "metadata": {},
   "outputs": [
    {
     "data": {
      "image/png": "[encoded data removed]",
      "text/plain": [
       "<Figure size 720x288 with 1 Axes>"
      ]
     },
     "metadata": {},
     "output_type": "display_data"
    }
   ],
   "source": [
    "movies_list = data[data['type'] == 'Movie']\n",
    "movie_duration = []\n",
    "for i in movies_list['duration']:\n",
    "    movie_duration.append(int(i[:-4]))\n",
    "movie_duration = pd.Series(movie_duration, name = \"duration\")\n",
    "sns.distplot(movie_duration).set_title('Normal Distribution of movie duration')\n",
    "plt.gcf().set_size_inches(10, 4, forward=True)\n",
    "plt.show()"
   ]
  },
  {
   "cell_type": "code",
   "execution_count": 11,
   "metadata": {},
   "outputs": [
    {
     "data": {
      "image/png": "[encoded data removed]",
      "text/plain": [
       "<Figure size 720x288 with 1 Axes>"
      ]
     },
     "metadata": {},
     "output_type": "display_data"
    }
   ],
   "source": [
    "TvShows = data[data['type'] == 'TV Show']\n",
    "seasons = []\n",
    "for i in TvShows['duration']:\n",
    "    seasons.append(int(i[:-7]))\n",
    "seasons = pd.Series(seasons, name = \"seasons\")\n",
    "seasons = seasons.value_counts().reset_index()\n",
    "seasons = seasons.rename(columns={'index':'seasons', 'seasons':'count'})\n",
    "plt.bar(seasons['seasons'], seasons['count'])\n",
    "plt.xlabel('seasons')\n",
    "plt.ylabel('no of shows')\n",
    "plt.gcf().set_size_inches(10, 4, forward=True)\n",
    "plt.show()"
   ]
  },
  {
   "cell_type": "code",
   "execution_count": 12,
   "metadata": {},
   "outputs": [
    {
     "data": {
      "image/png": "[encoded data removed]",
      "text/plain": [
       "<Figure size 432x288 with 1 Axes>"
      ]
     },
     "metadata": {},
     "output_type": "display_data"
    }
   ],
   "source": [
    "categories = {}\n",
    "for i in data['listed_in']:\n",
    "    listed = i.split(',')\n",
    "    for j in listed:\n",
    "        if j == '':\n",
    "            continue\n",
    "        j = j.strip()\n",
    "        if j not in categories:\n",
    "            categories[j] = 1\n",
    "        else:\n",
    "            categories[j] += 1\n",
    "categories = pd.DataFrame(categories.items(), columns = ['category', 'count'])\n",
    "category = categories[:5]\n",
    "plt.bar(category['category'], category['count'])\n",
    "plt.show()"
   ]
  },
  {
   "cell_type": "code",
   "execution_count": null,
   "metadata": {},
   "outputs": [],
   "source": []
  },
  {
   "cell_type": "code",
   "execution_count": null,
   "metadata": {},
   "outputs": [],
   "source": []
  },
  {
   "cell_type": "code",
   "execution_count": null,
   "metadata": {},
   "outputs": [],
   "source": []
  },
  {
   "cell_type": "code",
   "execution_count": null,
   "metadata": {},
   "outputs": [],
   "source": []
  },
  {
   "cell_type": "code",
   "execution_count": null,
   "metadata": {},
   "outputs": [],
   "source": []
  }
 ],
 "metadata": {
  "kernelspec": {
   "display_name": "Python 3",
   "language": "python",
   "name": "python3"
  },
  "language_info": {
   "codemirror_mode": {
    "name": "ipython",
    "version": 3
   },
   "file_extension": ".py",
   "mimetype": "text/x-python",
   "name": "python",
   "nbconvert_exporter": "python",
   "pygments_lexer": "ipython3",
   "version": "3.6.9"
  }
 },
 "nbformat": 4,
 "nbformat_minor": 2
}
